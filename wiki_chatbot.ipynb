{
 "cells": [
  {
   "cell_type": "code",
   "execution_count": null,
   "id": "3d12b437",
   "metadata": {},
   "outputs": [
    {
     "name": "stderr",
     "output_type": "stream",
     "text": [
      "[nltk_data] Downloading package averaged_perceptron_tagger to\n",
      "[nltk_data]     C:\\Users\\prath\\AppData\\Roaming\\nltk_data...\n",
      "[nltk_data]   Package averaged_perceptron_tagger is already up-to-\n",
      "[nltk_data]       date!\n",
      "[nltk_data] Downloading package wordnet to\n",
      "[nltk_data]     C:\\Users\\prath\\AppData\\Roaming\\nltk_data...\n",
      "[nltk_data]   Package wordnet is already up-to-date!\n",
      "[nltk_data] Downloading package punkt to\n",
      "[nltk_data]     C:\\Users\\prath\\AppData\\Roaming\\nltk_data...\n",
      "[nltk_data]   Package punkt is already up-to-date!\n"
     ]
    },
    {
     "name": "stdout",
     "output_type": "stream",
     "text": [
      "Hi, what do you want to know?\n",
      "what is formula 1\n",
      "But by then, turbocharged engines, which Renault had pioneered in 1977, were producing over 520 kW (700 bhp) and were essential to be competitive.\n",
      "Hi, what do you want to know?\n",
      "history of formula one\n",
      "The format of the race has changed little through Formula One's history.\n",
      "Hi, what do you want to know?\n",
      "top teams of formula 1\n",
      "Ferrari is the oldest Formula One team, the only still-active team which competed in 1950.\n",
      "Hi, what do you want to know?\n",
      "when did formula 1 start\n",
      "The first Formula One race was held in 1946, whereas the World Championship did not start until 1950.\n",
      "Hi, what do you want to know?\n",
      "when did hybrid era start\n",
      "The first Formula One race was held in 1946, whereas the World Championship did not start until 1950.\n"
     ]
    }
   ],
   "source": [
    "import nltk\n",
    "from nltk.stem import WordNetLemmatizer\n",
    "from sklearn.feature_extraction.text import TfidfVectorizer\n",
    "from sklearn.metrics.pairwise import cosine_similarity\n",
    "\n",
    "import wikipedia\n",
    "\n",
    "nltk.download('averaged_perceptron_tagger')\n",
    "nltk.download('wordnet')\n",
    "nltk.download('punkt')\n",
    "\n",
    "text = wikipedia.page('Formula One').content\n",
    "lemmatizer=WordNetLemmatizer()\n",
    "\n",
    "def lemma_me(sent):\n",
    "    sentence_tokens = nltk.word_tokenize(sent.lower())\n",
    "    pos_tags = nltk.pos_tag(sentence_tokens)\n",
    "\n",
    "    sentence_lemmas = []\n",
    "    for token, pos_tag in zip(sentence_tokens, pos_tags):\n",
    "        if pos_tag[1][0].lower() in ['n', 'v', 'a', 'r']:\n",
    "            lemma = lemmatizer.lemmatize(token, pos_tag[1][0].lower())\n",
    "            sentence_lemmas.append(lemma)\n",
    "\n",
    "    return sentence_lemmas\n",
    "\n",
    "def process(text, question):\n",
    "  sentence_tokens = nltk.sent_tokenize(text)\n",
    "  sentence_tokens.append(question)\n",
    "\n",
    "  tv = TfidfVectorizer(tokenizer=lemma_me)\n",
    "  tf = tv.fit_transform(sentence_tokens)\n",
    "  values = cosine_similarity(tf[-1], tf)\n",
    "  index = values.argsort()[0][-2]\n",
    "  values_flat = values.flatten()\n",
    "  values_flat.sort()\n",
    "  coeff = values_flat[-2]\n",
    "  if coeff > 0.3:\n",
    "    return sentence_tokens[index]\n",
    "    \n",
    "while True:\n",
    "    question = input(\"Hi, what do you want to know?\\n\")\n",
    "    output=process(text,question)\n",
    "    if output:\n",
    "        print(output)\n",
    "    elif question=='quit':\n",
    "        break\n",
    "    else:____\n",
    "        print(\"I don't know....\")"
   ]
  },
  {
   "cell_type": "code",
   "execution_count": null,
   "id": "748b994d",
   "metadata": {},
   "outputs": [],
   "source": []
  }
 ],
 "metadata": {
  "kernelspec": {
   "display_name": "Python 3 (ipykernel)",
   "language": "python",
   "name": "python3"
  },
  "language_info": {
   "codemirror_mode": {
    "name": "ipython",
    "version": 3
   },
   "file_extension": ".py",
   "mimetype": "text/x-python",
   "name": "python",
   "nbconvert_exporter": "python",
   "pygments_lexer": "ipython3",
   "version": "3.11.7"
  }
 },
 "nbformat": 4,
 "nbformat_minor": 5
}
